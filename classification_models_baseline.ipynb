{
 "cells": [
  {
   "cell_type": "markdown",
   "id": "e21c2261-9f5a-4615-9655-59442b40129a",
   "metadata": {},
   "source": [
    "###  Importing libraries and Loading the Data"
   ]
  },
  {
   "cell_type": "code",
   "execution_count": 1,
   "id": "08641c89-b922-4470-ba6e-a905c2dd773b",
   "metadata": {},
   "outputs": [],
   "source": [
    "import pandas as pd\n",
    "import numpy as np\n",
    "import matplotlib.pyplot as plt\n",
    "import seaborn as sns\n",
    "from sklearn.model_selection import train_test_split\n",
    "from sklearn.preprocessing import StandardScaler\n",
    "from sklearn.linear_model import LogisticRegression\n",
    "from sklearn.discriminant_analysis import LinearDiscriminantAnalysis\n",
    "from sklearn.naive_bayes import GaussianNB\n",
    "from sklearn.neighbors import KNeighborsClassifier\n",
    "from sklearn.metrics import accuracy_score, classification_report, confusion_matrix\n",
    "\n",
    "\n",
    "file_path = './HousingData.csv'\n",
    "data = pd.read_csv(file_path)\n"
   ]
  },
  {
   "cell_type": "markdown",
   "id": "8fd972a0-de66-4387-b09c-69dcc4f599b6",
   "metadata": {},
   "source": [
    "### Preprocessing Data"
   ]
  },
  {
   "cell_type": "code",
   "execution_count": 2,
   "id": "9655917f-dd2f-43b2-aae9-38cd201f5193",
   "metadata": {},
   "outputs": [],
   "source": [
    "# Removing data with missing values\n",
    "data = data.dropna()"
   ]
  },
  {
   "cell_type": "markdown",
   "id": "da837240-712a-4d50-baf9-6799c7d6d9a6",
   "metadata": {},
   "source": [
    "### Defining the response variable"
   ]
  },
  {
   "cell_type": "code",
   "execution_count": 3,
   "id": "b23df702-9a61-402b-9c9a-2671a52a3867",
   "metadata": {},
   "outputs": [],
   "source": [
    "median_crime = data['CRIM'].median()\n",
    "data['HighCrime'] = (data['CRIM'] > median_crime).astype(int)"
   ]
  },
  {
   "cell_type": "markdown",
   "id": "691625a4-729f-4bba-a443-ffaf39102029",
   "metadata": {},
   "source": [
    "### Defining predictor variables and splitting into training and test data"
   ]
  },
  {
   "cell_type": "code",
   "execution_count": 4,
   "id": "694f5d45-8901-4b82-b0c3-82ea8fff7ad4",
   "metadata": {},
   "outputs": [],
   "source": [
    "X = data.drop(columns=['CRIM', 'HighCrime'])\n",
    "y = data['HighCrime']\n",
    "X_train, X_test, y_train, y_test = train_test_split(X, y, test_size=0.3, random_state=42)"
   ]
  },
  {
   "cell_type": "markdown",
   "id": "89d409e5-ef84-43da-a328-e995d6b46cc3",
   "metadata": {},
   "source": [
    "### Standardizing the data"
   ]
  },
  {
   "cell_type": "code",
   "execution_count": 5,
   "id": "487cb643-3a5d-42c4-913b-d30a4a41a24c",
   "metadata": {},
   "outputs": [],
   "source": [
    "scaler = StandardScaler()\n",
    "X_train_scaled = scaler.fit_transform(X_train)\n",
    "X_test_scaled = scaler.transform(X_test)"
   ]
  },
  {
   "cell_type": "markdown",
   "id": "9b3d11ee-8378-422c-bbde-3931a154cc40",
   "metadata": {},
   "source": [
    "# Logistic Regression"
   ]
  },
  {
   "cell_type": "code",
   "execution_count": 6,
   "id": "e4e1da64-62b7-43c0-b095-ab64c96ef992",
   "metadata": {},
   "outputs": [
    {
     "name": "stdout",
     "output_type": "stream",
     "text": [
      "Logistic Regression Accuracy: 0.8655\n",
      "--------------------------------------------------\n",
      "              precision    recall  f1-score   support\n",
      "\n",
      "           0       0.86      0.89      0.87        62\n",
      "           1       0.87      0.84      0.86        57\n",
      "\n",
      "    accuracy                           0.87       119\n",
      "   macro avg       0.87      0.86      0.87       119\n",
      "weighted avg       0.87      0.87      0.87       119\n",
      "\n",
      "--------------------------------------------------\n",
      "[[55  7]\n",
      " [ 9 48]]\n",
      "--------------------------------------------------\n"
     ]
    }
   ],
   "source": [
    "log_reg = LogisticRegression()\n",
    "log_reg.fit(X_train_scaled, y_train)\n",
    "y_pred_log_reg = log_reg.predict(X_test_scaled)\n",
    "accuracy_log_reg = accuracy_score(y_test, y_pred_log_reg)\n",
    "print(f\"Logistic Regression Accuracy: {accuracy_log_reg:.4f}\")\n",
    "print(\"-\"*50)\n",
    "print(classification_report(y_test, y_pred_log_reg))\n",
    "print(\"-\"*50)\n",
    "print(confusion_matrix(y_test, y_pred_log_reg))\n",
    "print(\"-\"*50)"
   ]
  },
  {
   "cell_type": "markdown",
   "id": "29a8dd8a-9c20-4317-a2a5-9c70463380f5",
   "metadata": {},
   "source": [
    "### Findings\n",
    "1. Logistic Regression achieves a strong accuracy of 86.55%, showing that it performs well in predicting both high and low crime areas.\n",
    "2. Recall for Class 0 (Low Crime) is 89%, while for Class 1 (High Crime) it is 84%. This suggests that the model is slightly better at detecting low-crime areas than high-crime areas.\n",
    "3. The model is slightly more prone to missing high-crime areas (false negatives) than wrongly flagging low-crime areas."
   ]
  },
  {
   "cell_type": "markdown",
   "id": "09b261a8-4c4e-4f28-ad76-09466c3ea170",
   "metadata": {},
   "source": [
    "# Linear Discriminant Analysis (LDA)"
   ]
  },
  {
   "cell_type": "code",
   "execution_count": 7,
   "id": "d47734a1-ea99-4dc0-ba04-5a647be01f9b",
   "metadata": {},
   "outputs": [
    {
     "name": "stdout",
     "output_type": "stream",
     "text": [
      "LDA Accuracy: 0.8403\n",
      "--------------------------------------------------\n",
      "              precision    recall  f1-score   support\n",
      "\n",
      "           0       0.80      0.92      0.86        62\n",
      "           1       0.90      0.75      0.82        57\n",
      "\n",
      "    accuracy                           0.84       119\n",
      "   macro avg       0.85      0.84      0.84       119\n",
      "weighted avg       0.85      0.84      0.84       119\n",
      "\n",
      "--------------------------------------------------\n",
      "[[57  5]\n",
      " [14 43]]\n",
      "--------------------------------------------------\n"
     ]
    }
   ],
   "source": [
    "lda = LinearDiscriminantAnalysis()\n",
    "lda.fit(X_train_scaled, y_train)\n",
    "y_pred_lda = lda.predict(X_test_scaled)\n",
    "accuracy_lda = accuracy_score(y_test, y_pred_lda)\n",
    "print(f\"LDA Accuracy: {accuracy_lda:.4f}\")\n",
    "print(\"-\"*50)\n",
    "print(classification_report(y_test, y_pred_lda))\n",
    "print(\"-\"*50)\n",
    "print(confusion_matrix(y_test, y_pred_lda))\n",
    "print(\"-\"*50)"
   ]
  },
  {
   "cell_type": "markdown",
   "id": "a052e340-d743-43f0-adce-e290147d7913",
   "metadata": {},
   "source": [
    "### Findings\n",
    "1. LDA achieves an 84.03% accuracy, which is slightly worse than logistic regression\n",
    "2. The recall for Class 0 (92%) is significantly higher than for Class 1 (75%), meaning that LDA is much better at detecting low-crime areas but struggles to correctly classify high-crime areas.\n",
    "3. 14 false negatives suggests that LDA underestimates high-crime areas more than any other model."
   ]
  },
  {
   "cell_type": "markdown",
   "id": "e0adc690-1906-485e-bbad-8ad052c4a876",
   "metadata": {},
   "source": [
    "# Naive Bayes"
   ]
  },
  {
   "cell_type": "code",
   "execution_count": 8,
   "id": "33cf00c8-eb5d-4e10-b3a1-b69617a41983",
   "metadata": {},
   "outputs": [
    {
     "name": "stdout",
     "output_type": "stream",
     "text": [
      "Naive Bayes Accuracy: 0.8067\n",
      "--------------------------------------------------\n",
      "              precision    recall  f1-score   support\n",
      "\n",
      "           0       0.79      0.85      0.82        62\n",
      "           1       0.83      0.75      0.79        57\n",
      "\n",
      "    accuracy                           0.81       119\n",
      "   macro avg       0.81      0.80      0.81       119\n",
      "weighted avg       0.81      0.81      0.81       119\n",
      "\n",
      "--------------------------------------------------\n",
      "[[53  9]\n",
      " [14 43]]\n",
      "--------------------------------------------------\n"
     ]
    }
   ],
   "source": [
    "nb = GaussianNB()\n",
    "nb.fit(X_train_scaled, y_train)\n",
    "y_pred_nb = nb.predict(X_test_scaled)\n",
    "accuracy_nb = accuracy_score(y_test, y_pred_nb)\n",
    "print(f\"Naive Bayes Accuracy: {accuracy_nb:.4f}\")\n",
    "print(\"-\"*50)\n",
    "print(classification_report(y_test, y_pred_nb))\n",
    "print(\"-\"*50)\n",
    "print(confusion_matrix(y_test, y_pred_nb))\n",
    "print(\"-\"*50)"
   ]
  },
  {
   "cell_type": "markdown",
   "id": "c68aed92-0a4e-4d6a-b7d5-9dc49c9c2b2b",
   "metadata": {},
   "source": [
    "### Findings\n",
    "1. This is the weakest-performing model in terms of accuracy.\n",
    "2. With 14 false negatives, Naïve Bayes tends to under-detect high-crime areas, and its 9 false positives indicate occasional misclassification of low-crime areas."
   ]
  },
  {
   "cell_type": "markdown",
   "id": "b26cc765-4ea6-4dc2-bdc9-8f3f9135e9d1",
   "metadata": {},
   "source": [
    "# k-Nearest Neighbors (KNN)"
   ]
  },
  {
   "cell_type": "code",
   "execution_count": 9,
   "id": "f7a65b5e-ede3-48fb-931d-d1b83f87657a",
   "metadata": {},
   "outputs": [
    {
     "name": "stdout",
     "output_type": "stream",
     "text": [
      "KNN (k=5) Accuracy: 0.9328\n",
      "--------------------------------------------------\n",
      "              precision    recall  f1-score   support\n",
      "\n",
      "           0       0.94      0.94      0.94        62\n",
      "           1       0.93      0.93      0.93        57\n",
      "\n",
      "    accuracy                           0.93       119\n",
      "   macro avg       0.93      0.93      0.93       119\n",
      "weighted avg       0.93      0.93      0.93       119\n",
      "\n",
      "--------------------------------------------------\n",
      "[[58  4]\n",
      " [ 4 53]]\n",
      "--------------------------------------------------\n"
     ]
    }
   ],
   "source": [
    "knn = KNeighborsClassifier(n_neighbors=5)\n",
    "knn.fit(X_train_scaled, y_train)\n",
    "y_pred_knn = knn.predict(X_test_scaled)\n",
    "accuracy_knn = accuracy_score(y_test, y_pred_knn)\n",
    "print(f\"KNN (k=5) Accuracy: {accuracy_knn:.4f}\")\n",
    "print(\"-\"*50)\n",
    "print(classification_report(y_test, y_pred_knn))\n",
    "print(\"-\"*50)\n",
    "print(confusion_matrix(y_test, y_pred_knn))\n",
    "print(\"-\"*50)"
   ]
  },
  {
   "cell_type": "markdown",
   "id": "5478286c-6d8a-4762-b91b-d445eb647334",
   "metadata": {},
   "source": [
    "### Findings\n",
    "1. KNN outperforms all other models in classification accuracy.\n",
    "2. Precision and recall for both Class 0 and Class 1 are nearly equal (93-94%), meaning KNN does not show bias towards either class.\n",
    "3. The confusion matrix has the lowest misclassification rates, with only 4 false positives and 4 false negatives."
   ]
  },
  {
   "cell_type": "markdown",
   "id": "c0debe84-e68d-4d6c-a127-e16841989621",
   "metadata": {},
   "source": [
    "## Comparing Models"
   ]
  },
  {
   "cell_type": "code",
   "execution_count": 10,
   "id": "e1003691-f78d-401e-833d-311de858a5cb",
   "metadata": {},
   "outputs": [
    {
     "data": {
      "image/png": "[encoded data removed]",
      "text/plain": [
       "<Figure size 800x500 with 1 Axes>"
      ]
     },
     "metadata": {},
     "output_type": "display_data"
    }
   ],
   "source": [
    "results = {\n",
    "    'Logistic Regression': accuracy_log_reg,\n",
    "    'LDA': accuracy_lda,\n",
    "    'Naive Bayes': accuracy_nb,\n",
    "    'KNN (k=5)': accuracy_knn\n",
    "}\n",
    "\n",
    "plt.figure(figsize=(8, 5))\n",
    "plt.bar(results.keys(), results.values(), color=['blue', 'green', 'red', 'purple'])\n",
    "plt.xlabel(\"Model\")\n",
    "plt.ylabel(\"Accuracy\")\n",
    "plt.title(\"Model Comparison\")\n",
    "plt.xticks(rotation=45)\n",
    "plt.show()"
   ]
  },
  {
   "cell_type": "markdown",
   "id": "446f1a3a-b702-4cf9-833d-98927eb8473c",
   "metadata": {},
   "source": [
    "## Conclusion\n",
    "1. KNN is the best model overall, achieving the highest accuracy (93.28%) and lowest misclassification errors.\n",
    "2. Logistic Regression is the second-best model with good balance, but slightly lower recall for high-crime areas.\n",
    "3. LDA and Naïve Bayes tend to under-predict high-crime areas (higher false negatives), making them less reliable for crime rate classification.\n",
    "4. LDA has the highest precision for Class 1 (high crime), but at the cost of high false negatives (missing high-crime areas).\n",
    "5. Naïve Bayes shows the weakest performance, likely due to its assumption of feature independence, which doesn't hold well in this dataset.\n",
    "\n",
    "Thus, we can say that KNN is the most reliable model for this classification task, Logistic Regression provides a balanced trade-off, and LDA and Naïve Bayes are less suitable due to their higher misclassification of high-crime areas."
   ]
  }
 ],
 "metadata": {
  "kernelspec": {
   "display_name": "Python 3 (ipykernel)",
   "language": "python",
   "name": "python3"
  },
  "language_info": {
   "codemirror_mode": {
    "name": "ipython",
    "version": 3
   },
   "file_extension": ".py",
   "mimetype": "text/x-python",
   "name": "python",
   "nbconvert_exporter": "python",
   "pygments_lexer": "ipython3",
   "version": "3.12.7"
  }
 },
 "nbformat": 4,
 "nbformat_minor": 5
}
